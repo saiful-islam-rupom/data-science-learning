{
 "cells": [
  {
   "cell_type": "markdown",
   "id": "7e9769b8-88e1-40fc-a93a-7e7b90343ead",
   "metadata": {},
   "source": [
    "# Some Important series methods\n",
    "#### astype\n",
    "#### between\n",
    "#### clip\n",
    "#### drop_duplicates\n",
    "#### isnull\n",
    "#### dropna\n",
    "#### filena\n",
    "#### isin\n",
    "#### apply\n",
    "#### copy\n"
   ]
  },
  {
   "cell_type": "code",
   "execution_count": 17,
   "id": "7a08b25d-c478-47d5-b846-9a03249b95bd",
   "metadata": {},
   "outputs": [],
   "source": [
    "import numpy as np\n",
    "import pandas as pd\n"
   ]
  },
  {
   "cell_type": "code",
   "execution_count": 18,
   "id": "24d9f0cc-865d-4b2b-aaa7-5d6ecd4381ad",
   "metadata": {},
   "outputs": [
    {
     "data": {
      "text/plain": [
       "0       48\n",
       "1       57\n",
       "2       40\n",
       "3       43\n",
       "4       44\n",
       "      ... \n",
       "360    231\n",
       "361    226\n",
       "362    155\n",
       "363    144\n",
       "364    172\n",
       "Name: Subscribers gained, Length: 365, dtype: int64"
      ]
     },
     "execution_count": 18,
     "metadata": {},
     "output_type": "execute_result"
    }
   ],
   "source": [
    "dfs = pd.read_csv(r\"E:\\Learn_Data_Science\\Python_For_Data_Science\\Pandas_Folder\\Datasets_For_Pandas\\subs.csv\")\n",
    "sers = dfs.squeeze()\n",
    "sers"
   ]
  },
  {
   "cell_type": "code",
   "execution_count": 20,
   "id": "b6ed1bf2-1626-4764-b9d8-0b3e2c4a60da",
   "metadata": {},
   "outputs": [
    {
     "data": {
      "text/plain": [
       "match_no\n",
       "1       1\n",
       "2      23\n",
       "3      13\n",
       "4      12\n",
       "5       1\n",
       "       ..\n",
       "211     0\n",
       "212    20\n",
       "213    73\n",
       "214    25\n",
       "215     7\n",
       "Name: runs, Length: 215, dtype: int64"
      ]
     },
     "execution_count": 20,
     "metadata": {},
     "output_type": "execute_result"
    }
   ],
   "source": [
    "dfk = pd.read_csv(r\"E:\\Learn_Data_Science\\Python_For_Data_Science\\Pandas_Folder\\Datasets_For_Pandas\\kohli_ipl.csv\",index_col=\"match_no\")\n",
    "serk = dfk.squeeze()\n",
    "serk"
   ]
  },
  {
   "cell_type": "code",
   "execution_count": 22,
   "id": "201dba5e-26fa-4d9a-83aa-b4ca3d73fb2e",
   "metadata": {},
   "outputs": [
    {
     "data": {
      "text/plain": [
       "movie\n",
       "Uri: The Surgical Strike                   Vicky Kaushal\n",
       "Battalion 609                                Vicky Ahuja\n",
       "The Accidental Prime Minister (film)         Anupam Kher\n",
       "Why Cheat India                            Emraan Hashmi\n",
       "Evening Shadows                         Mona Ambegaonkar\n",
       "                                              ...       \n",
       "Hum Tumhare Hain Sanam                    Shah Rukh Khan\n",
       "Aankhen (2002 film)                     Amitabh Bachchan\n",
       "Saathiya (film)                             Vivek Oberoi\n",
       "Company (film)                                Ajay Devgn\n",
       "Awara Paagal Deewana                        Akshay Kumar\n",
       "Name: lead, Length: 1500, dtype: object"
      ]
     },
     "execution_count": 22,
     "metadata": {},
     "output_type": "execute_result"
    }
   ],
   "source": [
    "dfb = pd.read_csv(r\"E:\\Learn_Data_Science\\Python_For_Data_Science\\Pandas_Folder\\Datasets_For_Pandas\\bollywood.csv\",index_col='movie')\n",
    "serb = dfb.squeeze()\n",
    "serb"
   ]
  },
  {
   "cell_type": "code",
   "execution_count": 24,
   "id": "b3b08d75-14e7-46eb-aed8-f9ad1668f317",
   "metadata": {},
   "outputs": [
    {
     "data": {
      "text/plain": [
       "3472"
      ]
     },
     "execution_count": 24,
     "metadata": {},
     "output_type": "execute_result"
    }
   ],
   "source": [
    "# astype - to change the type of data\n",
    "import sys\n",
    "sys.getsizeof(serk) # to get the size of file/data in memory (byte)\n"
   ]
  },
  {
   "cell_type": "code",
   "execution_count": 25,
   "id": "b8e59edb-7b56-42a3-9f9f-435923fac8b7",
   "metadata": {},
   "outputs": [
    {
     "data": {
      "text/plain": [
       "match_no\n",
       "1       1\n",
       "2      23\n",
       "3      13\n",
       "4      12\n",
       "5       1\n",
       "       ..\n",
       "211     0\n",
       "212    20\n",
       "213    73\n",
       "214    25\n",
       "215     7\n",
       "Name: runs, Length: 215, dtype: int16"
      ]
     },
     "execution_count": 25,
     "metadata": {},
     "output_type": "execute_result"
    }
   ],
   "source": [
    "serk.astype('int16')"
   ]
  },
  {
   "cell_type": "code",
   "execution_count": 27,
   "id": "a2faf0e5-e1fc-4843-a5dc-7227baf79f86",
   "metadata": {},
   "outputs": [
    {
     "data": {
      "text/plain": [
       "2182"
      ]
     },
     "execution_count": 27,
     "metadata": {},
     "output_type": "execute_result"
    }
   ],
   "source": [
    "sys.getsizeof(serk.astype('int16'))"
   ]
  },
  {
   "cell_type": "code",
   "execution_count": 30,
   "id": "3a89c991-741e-41c1-b4a2-87d0eaa401c7",
   "metadata": {},
   "outputs": [
    {
     "data": {
      "text/plain": [
       "47"
      ]
     },
     "execution_count": 30,
     "metadata": {},
     "output_type": "execute_result"
    }
   ],
   "source": [
    "# between - does value exist in a given range - (T/F)\n",
    "serk.between(50,100)\n",
    "\n",
    "serk[serk.between(50,100)].size  # 50 and 100 both included"
   ]
  },
  {
   "cell_type": "code",
   "execution_count": 31,
   "id": "892bd665-8341-45f1-8e10-eadb5be5f8a7",
   "metadata": {},
   "outputs": [
    {
     "data": {
      "text/plain": [
       "0       48\n",
       "1       57\n",
       "2       40\n",
       "3       43\n",
       "4       44\n",
       "      ... \n",
       "360    231\n",
       "361    226\n",
       "362    155\n",
       "363    144\n",
       "364    172\n",
       "Name: Subscribers gained, Length: 365, dtype: int64"
      ]
     },
     "execution_count": 31,
     "metadata": {},
     "output_type": "execute_result"
    }
   ],
   "source": [
    "# clip - set a range of all the values\n",
    "sers"
   ]
  },
  {
   "cell_type": "code",
   "execution_count": 32,
   "id": "45a52c6e-28f2-4a58-8781-6f0116567506",
   "metadata": {},
   "outputs": [
    {
     "data": {
      "text/plain": [
       "0      100\n",
       "1      100\n",
       "2      100\n",
       "3      100\n",
       "4      100\n",
       "      ... \n",
       "360    200\n",
       "361    200\n",
       "362    155\n",
       "363    144\n",
       "364    172\n",
       "Name: Subscribers gained, Length: 365, dtype: int64"
      ]
     },
     "execution_count": 32,
     "metadata": {},
     "output_type": "execute_result"
    }
   ],
   "source": [
    "sers.clip(100,200)  # (min value, max value)"
   ]
  },
  {
   "cell_type": "code",
   "execution_count": 33,
   "id": "11d2a16f-b0c8-4f95-bfe1-4b40d8257011",
   "metadata": {},
   "outputs": [
    {
     "data": {
      "text/plain": [
       "0    1\n",
       "1    2\n",
       "2    3\n",
       "3    3\n",
       "4    3\n",
       "5    4\n",
       "6    5\n",
       "7    6\n",
       "8    6\n",
       "9    7\n",
       "dtype: int64"
      ]
     },
     "execution_count": 33,
     "metadata": {},
     "output_type": "execute_result"
    }
   ],
   "source": [
    "# drop_duplicates - to remove duplicates\n",
    "sr = pd.Series([1,2,3,3,3,4,5,6,6,7])\n",
    "sr"
   ]
  },
  {
   "cell_type": "code",
   "execution_count": 35,
   "id": "4b22c7d6-1869-465f-bdad-5431c444e342",
   "metadata": {},
   "outputs": [
    {
     "data": {
      "text/plain": [
       "0    1\n",
       "1    2\n",
       "2    3\n",
       "5    4\n",
       "6    5\n",
       "7    6\n",
       "9    7\n",
       "dtype: int64"
      ]
     },
     "execution_count": 35,
     "metadata": {},
     "output_type": "execute_result"
    }
   ],
   "source": [
    "sr.drop_duplicates()"
   ]
  },
  {
   "cell_type": "code",
   "execution_count": 36,
   "id": "8834db55-843f-40a9-b408-a361ad04d478",
   "metadata": {},
   "outputs": [
    {
     "data": {
      "text/plain": [
       "0    1\n",
       "1    2\n",
       "4    3\n",
       "5    4\n",
       "6    5\n",
       "8    6\n",
       "9    7\n",
       "dtype: int64"
      ]
     },
     "execution_count": 36,
     "metadata": {},
     "output_type": "execute_result"
    }
   ],
   "source": [
    "sr.drop_duplicates(keep='last') # keep the last one"
   ]
  },
  {
   "cell_type": "code",
   "execution_count": 40,
   "id": "f4cf3f20",
   "metadata": {},
   "outputs": [
    {
     "data": {
      "text/plain": [
       "0    False\n",
       "1    False\n",
       "2    False\n",
       "3     True\n",
       "4     True\n",
       "5    False\n",
       "6    False\n",
       "7    False\n",
       "8     True\n",
       "9    False\n",
       "dtype: bool"
      ]
     },
     "execution_count": 40,
     "metadata": {},
     "output_type": "execute_result"
    }
   ],
   "source": [
    "sr.duplicated()"
   ]
  },
  {
   "cell_type": "code",
   "execution_count": 41,
   "id": "ee480139-a2d9-424d-bb90-5eb27fa3c71d",
   "metadata": {},
   "outputs": [
    {
     "data": {
      "text/plain": [
       "np.int64(3)"
      ]
     },
     "execution_count": 41,
     "metadata": {},
     "output_type": "execute_result"
    }
   ],
   "source": [
    "sr.duplicated().sum() # total duplicates"
   ]
  },
  {
   "cell_type": "code",
   "execution_count": 45,
   "id": "52ee124f",
   "metadata": {},
   "outputs": [
    {
     "data": {
      "text/plain": [
       "3"
      ]
     },
     "execution_count": 45,
     "metadata": {},
     "output_type": "execute_result"
    }
   ],
   "source": [
    "sr[sr.duplicated()].size"
   ]
  },
  {
   "cell_type": "code",
   "execution_count": 46,
   "id": "266dbea3-6073-4372-8ba8-efda244d005d",
   "metadata": {},
   "outputs": [
    {
     "data": {
      "text/plain": [
       "0    1.0\n",
       "1    2.0\n",
       "2    NaN\n",
       "3    2.0\n",
       "4    NaN\n",
       "5    4.0\n",
       "6    4.0\n",
       "7    5.0\n",
       "8    7.0\n",
       "9    9.0\n",
       "dtype: float64"
      ]
     },
     "execution_count": 46,
     "metadata": {},
     "output_type": "execute_result"
    }
   ],
   "source": [
    "# isnull - is there any null values (T/F)\n",
    "temp = pd.Series([1,2,np.nan,2,np.nan,4,4,5,7,9])\n",
    "temp"
   ]
  },
  {
   "cell_type": "code",
   "execution_count": 47,
   "id": "99f3c650-0f52-481f-8e43-e417f645f317",
   "metadata": {},
   "outputs": [
    {
     "data": {
      "text/plain": [
       "10"
      ]
     },
     "execution_count": 47,
     "metadata": {},
     "output_type": "execute_result"
    }
   ],
   "source": [
    "temp.size # size count all values including null"
   ]
  },
  {
   "cell_type": "code",
   "execution_count": 48,
   "id": "abc18064-a408-44b5-acc4-16508a986f35",
   "metadata": {},
   "outputs": [
    {
     "data": {
      "text/plain": [
       "np.int64(8)"
      ]
     },
     "execution_count": 48,
     "metadata": {},
     "output_type": "execute_result"
    }
   ],
   "source": [
    "temp.count() # count() - it only count not-null values"
   ]
  },
  {
   "cell_type": "code",
   "execution_count": 49,
   "id": "d6c2893b-c865-4a0a-b020-7be211f2f3de",
   "metadata": {},
   "outputs": [
    {
     "data": {
      "text/plain": [
       "0    False\n",
       "1    False\n",
       "2     True\n",
       "3    False\n",
       "4     True\n",
       "5    False\n",
       "6    False\n",
       "7    False\n",
       "8    False\n",
       "9    False\n",
       "dtype: bool"
      ]
     },
     "execution_count": 49,
     "metadata": {},
     "output_type": "execute_result"
    }
   ],
   "source": [
    "temp.isnull()"
   ]
  },
  {
   "cell_type": "code",
   "execution_count": 50,
   "id": "e5ebaee7-20c2-4905-87ba-e15d9a739069",
   "metadata": {},
   "outputs": [
    {
     "data": {
      "text/plain": [
       "np.int64(2)"
      ]
     },
     "execution_count": 50,
     "metadata": {},
     "output_type": "execute_result"
    }
   ],
   "source": [
    "temp.isnull().sum()"
   ]
  },
  {
   "cell_type": "code",
   "execution_count": 51,
   "id": "ed2539c5-3c94-4c24-aad4-a08f8015de5d",
   "metadata": {},
   "outputs": [
    {
     "data": {
      "text/plain": [
       "0    1.0\n",
       "1    2.0\n",
       "3    2.0\n",
       "5    4.0\n",
       "6    4.0\n",
       "7    5.0\n",
       "8    7.0\n",
       "9    9.0\n",
       "dtype: float64"
      ]
     },
     "execution_count": 51,
     "metadata": {},
     "output_type": "execute_result"
    }
   ],
   "source": [
    "# dropna - remove all the null values\n",
    "temp.dropna()"
   ]
  },
  {
   "cell_type": "code",
   "execution_count": 52,
   "id": "c86938de-260b-452c-b817-2d4388a19d3c",
   "metadata": {},
   "outputs": [
    {
     "data": {
      "text/plain": [
       "0    1.0\n",
       "1    2.0\n",
       "2    0.0\n",
       "3    2.0\n",
       "4    0.0\n",
       "5    4.0\n",
       "6    4.0\n",
       "7    5.0\n",
       "8    7.0\n",
       "9    9.0\n",
       "dtype: float64"
      ]
     },
     "execution_count": 52,
     "metadata": {},
     "output_type": "execute_result"
    }
   ],
   "source": [
    "# fillna - fill and replace the null values\n",
    "temp.fillna(0)"
   ]
  },
  {
   "cell_type": "code",
   "execution_count": 53,
   "id": "1df1c865-9d81-4859-bf5e-628bb5835707",
   "metadata": {},
   "outputs": [
    {
     "data": {
      "text/plain": [
       "0    1.00\n",
       "1    2.00\n",
       "2    4.25\n",
       "3    2.00\n",
       "4    4.25\n",
       "5    4.00\n",
       "6    4.00\n",
       "7    5.00\n",
       "8    7.00\n",
       "9    9.00\n",
       "dtype: float64"
      ]
     },
     "execution_count": 53,
     "metadata": {},
     "output_type": "execute_result"
    }
   ],
   "source": [
    "temp.fillna(temp.mean())"
   ]
  },
  {
   "cell_type": "code",
   "execution_count": 54,
   "id": "b44b9191-a29e-4d71-87e9-1d450c77c78e",
   "metadata": {},
   "outputs": [
    {
     "data": {
      "text/plain": [
       "match_no\n",
       "1      False\n",
       "2      False\n",
       "3      False\n",
       "4      False\n",
       "5      False\n",
       "       ...  \n",
       "211    False\n",
       "212    False\n",
       "213    False\n",
       "214    False\n",
       "215    False\n",
       "Name: runs, Length: 215, dtype: bool"
      ]
     },
     "execution_count": 54,
     "metadata": {},
     "output_type": "execute_result"
    }
   ],
   "source": [
    "# isin- to find the values in the series (T/F)\n",
    "serk.isin([49,99])"
   ]
  },
  {
   "cell_type": "code",
   "execution_count": 55,
   "id": "2d8d381d-5371-4930-ac8c-b66b054dea4a",
   "metadata": {},
   "outputs": [
    {
     "data": {
      "text/plain": [
       "match_no\n",
       "82    99\n",
       "86    49\n",
       "Name: runs, dtype: int64"
      ]
     },
     "execution_count": 55,
     "metadata": {},
     "output_type": "execute_result"
    }
   ],
   "source": [
    "serk[serk.isin([49,99])]"
   ]
  },
  {
   "cell_type": "code",
   "execution_count": 56,
   "id": "62445781-8f73-4c64-924a-2c88a6ccf929",
   "metadata": {},
   "outputs": [
    {
     "data": {
      "text/plain": [
       "movie\n",
       "Uri: The Surgical Strike                   Vicky Kaushal\n",
       "Battalion 609                                Vicky Ahuja\n",
       "The Accidental Prime Minister (film)         Anupam Kher\n",
       "Why Cheat India                            Emraan Hashmi\n",
       "Evening Shadows                         Mona Ambegaonkar\n",
       "                                              ...       \n",
       "Hum Tumhare Hain Sanam                    Shah Rukh Khan\n",
       "Aankhen (2002 film)                     Amitabh Bachchan\n",
       "Saathiya (film)                             Vivek Oberoi\n",
       "Company (film)                                Ajay Devgn\n",
       "Awara Paagal Deewana                        Akshay Kumar\n",
       "Name: lead, Length: 1500, dtype: object"
      ]
     },
     "execution_count": 56,
     "metadata": {},
     "output_type": "execute_result"
    }
   ],
   "source": [
    "# apply - to apply custom logic in series\n",
    "serb"
   ]
  },
  {
   "cell_type": "code",
   "execution_count": 58,
   "id": "6d3e3bdf-1ecd-4a58-87c0-e150b1646277",
   "metadata": {},
   "outputs": [
    {
     "data": {
      "text/plain": [
       "movie\n",
       "Uri: The Surgical Strike                  VICKY\n",
       "Battalion 609                             VICKY\n",
       "The Accidental Prime Minister (film)     ANUPAM\n",
       "Why Cheat India                          EMRAAN\n",
       "Evening Shadows                            MONA\n",
       "                                         ...   \n",
       "Hum Tumhare Hain Sanam                     SHAH\n",
       "Aankhen (2002 film)                     AMITABH\n",
       "Saathiya (film)                           VIVEK\n",
       "Company (film)                             AJAY\n",
       "Awara Paagal Deewana                     AKSHAY\n",
       "Name: lead, Length: 1500, dtype: object"
      ]
     },
     "execution_count": 58,
     "metadata": {},
     "output_type": "execute_result"
    }
   ],
   "source": [
    "serb.apply(lambda x: x.split()[0].upper())"
   ]
  },
  {
   "cell_type": "code",
   "execution_count": 60,
   "id": "45e4997b-0d22-4677-b99b-02e8ee86662e",
   "metadata": {},
   "outputs": [
    {
     "data": {
      "text/plain": [
       "0       bad day\n",
       "1       bad day\n",
       "2       bad day\n",
       "3       bad day\n",
       "4       bad day\n",
       "         ...   \n",
       "360    good day\n",
       "361    good day\n",
       "362    good day\n",
       "363    good day\n",
       "364    good day\n",
       "Name: Subscribers gained, Length: 365, dtype: object"
      ]
     },
     "execution_count": 60,
     "metadata": {},
     "output_type": "execute_result"
    }
   ],
   "source": [
    "sers.apply(lambda x: 'good day' if x>sers.mean() else 'bad day')"
   ]
  }
 ],
 "metadata": {
  "kernelspec": {
   "display_name": "Python 3",
   "language": "python",
   "name": "python3"
  },
  "language_info": {
   "codemirror_mode": {
    "name": "ipython",
    "version": 3
   },
   "file_extension": ".py",
   "mimetype": "text/x-python",
   "name": "python",
   "nbconvert_exporter": "python",
   "pygments_lexer": "ipython3",
   "version": "3.13.1"
  }
 },
 "nbformat": 4,
 "nbformat_minor": 5
}
